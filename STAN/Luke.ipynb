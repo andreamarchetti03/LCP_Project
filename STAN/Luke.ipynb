{
 "cells": [
  {
   "cell_type": "code",
   "execution_count": null,
   "id": "e065b7d7",
   "metadata": {},
   "outputs": [],
   "source": [
    "import main\n",
    "import visualise as vis\n",
    "\n",
    "inference = main.infer('../Data/Series2.txt')\n",
    "\n",
    "vis.visualise(inference, 0, 500, \"mean\")"
   ]
  }
 ],
 "metadata": {
  "kernelspec": {
   "display_name": "Python 3 (ipykernel)",
   "language": "python",
   "name": "python3"
  },
  "language_info": {
   "codemirror_mode": {
    "name": "ipython",
    "version": 3
   },
   "file_extension": ".py",
   "mimetype": "text/x-python",
   "name": "python",
   "nbconvert_exporter": "python",
   "pygments_lexer": "ipython3",
   "version": "3.9.16"
  }
 },
 "nbformat": 4,
 "nbformat_minor": 5
}
