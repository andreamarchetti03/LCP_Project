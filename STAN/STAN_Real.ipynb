{
 "cells": [
  {
   "cell_type": "code",
   "execution_count": 2,
   "id": "0fa2a38e",
   "metadata": {},
   "outputs": [],
   "source": [
    "from Be_10 import main_real2\n",
    "\n",
    "#inference = main_real2.infer('Data/Be_10/series_real_Be.txt')"
   ]
  },
  {
   "cell_type": "markdown",
   "id": "6c73d111",
   "metadata": {},
   "source": [
    "## Visualisation of the results\n",
    "- Load the csv file with the samples for the inferred parameters:\n",
    "\n",
    "```python\n",
    "df_infer = pd.read_csv('fit_df_...', index_col='draws')\n",
    "```\n",
    "\n",
    "- Load the original timeseries:\n",
    "\n",
    "```python\n",
    "data = 'Data/Be_10/series_real_Be.txt'\n",
    "```\n",
    "\n",
    "- Import the module `visualise_df.py` to analyse the results."
   ]
  },
  {
   "cell_type": "code",
   "execution_count": 1,
   "id": "4a4b65d1",
   "metadata": {},
   "outputs": [],
   "source": [
    "import pandas as pd\n",
    "from Be_10 import visualise_real_df as vis\n",
    "\n",
    "# load timeseries data\n",
    "data = 'Data/Be_10/series_real_Be.txt'\n",
    "\n",
    "# import the dataframe with sampling\n",
    "#df_infer = pd.read_csv('...', index_col='draws')"
   ]
  },
  {
   "cell_type": "code",
   "execution_count": 2,
   "id": "e928f422",
   "metadata": {},
   "outputs": [],
   "source": [
    "# to enlarge the plots it may be necessary to set\n",
    "import matplotlib.pyplot as plt\n",
    "plt.rcParams['figure.figsize'] = [12, 8]"
   ]
  },
  {
   "cell_type": "markdown",
   "id": "d58e83e0",
   "metadata": {},
   "source": [
    "## Visualise the results"
   ]
  },
  {
   "cell_type": "code",
   "execution_count": null,
   "id": "5bcb4895",
   "metadata": {},
   "outputs": [],
   "source": [
    "vis.visualise(data, df_inf, 0, 1850)"
   ]
  }
 ],
 "metadata": {
  "kernelspec": {
   "display_name": "Python 3 (ipykernel)",
   "language": "python",
   "name": "python3"
  },
  "language_info": {
   "codemirror_mode": {
    "name": "ipython",
    "version": 3
   },
   "file_extension": ".py",
   "mimetype": "text/x-python",
   "name": "python",
   "nbconvert_exporter": "python",
   "pygments_lexer": "ipython3",
   "version": "3.10.6"
  }
 },
 "nbformat": 4,
 "nbformat_minor": 5
}
